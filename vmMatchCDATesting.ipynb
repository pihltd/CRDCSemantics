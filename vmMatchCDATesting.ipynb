{
 "cells": [
  {
   "cell_type": "markdown",
   "id": "a18d1cdb-a179-40e8-905f-073b7d9797c1",
   "metadata": {},
   "source": [
    "The purpose of this notebook is to try out vmMatch with CDA examples and see where it leads.  The basic idea it to provide a list of terms and see if I can tease out the CDEs they beling to"
   ]
  },
  {
   "cell_type": "code",
   "execution_count": 140,
   "id": "a6cf6a44-89ce-4a40-8f26-d5518f53a212",
   "metadata": {},
   "outputs": [],
   "source": [
    "import pandas as pd\n",
    "import requests\n",
    "import pprint\n",
    "import json\n",
    "import pandas as pd"
   ]
  },
  {
   "cell_type": "markdown",
   "id": "7cb684cd-4459-4928-a41b-e86301a6b623",
   "metadata": {},
   "source": [
    "caDSR Swagger interface:  https://cadsrapi.cancer.gov/NCIAPI/1.0/index.html"
   ]
  },
  {
   "cell_type": "code",
   "execution_count": 141,
   "id": "cdc6355f-759f-43d9-a82b-9035fc315c55",
   "metadata": {},
   "outputs": [],
   "source": [
    "vmatchprodurl = \"https://cadsrapi.cancer.gov/rad/vmMatch/v1/vmMatch\""
   ]
  },
  {
   "cell_type": "code",
   "execution_count": 142,
   "id": "ba88b4db-9567-419b-8f2c-08c613a7fe7b",
   "metadata": {},
   "outputs": [],
   "source": [
    "cdaSpeciesList = [\"canis familiaris\", \"home sapeins\", \"homo sapiens; mus musculus\", \"internal reference-pooled sample\", \"jhu-qc\", \"mus musculus\", \"normal only ir\", \"not reported\", \"pnnl-jhu ref\", \"ref\", \"taiwanese ir\", \"tumor only ir\"]\n",
    "testlist = [\"canis familiaris\",\"jhu-qc\",\"homo sapiens; mus musculus\"]\n",
    "#testlist = [\"homo sapiens; mus musculus\"]\n",
    "bumlist = [\"jhu-qc\"]"
   ]
  },
  {
   "cell_type": "code",
   "execution_count": 143,
   "id": "79da4bd0-80e7-4271-aec3-3095443d8b74",
   "metadata": {},
   "outputs": [],
   "source": [
    "headers = { 'Content-Type': 'application/json',\n",
    "            'matchType': 'Restricted',\n",
    "            'function': 'Concepts Only'}"
   ]
  },
  {
   "cell_type": "code",
   "execution_count": 144,
   "id": "9f08297b-c24c-4ba9-a404-7fd7291e9e43",
   "metadata": {},
   "outputs": [],
   "source": [
    "def runPostQuery(url, query, headers):\n",
    "    #url is the vmMatch URL\n",
    "    #query is a list of dictionary\n",
    "    #headers is HTML headers and \n",
    "    try:\n",
    "        results = requests.post(url, data=json.dumps(query), headers=headers)\n",
    "    except requests.exceptions.HTTPError as e:\n",
    "        pprint.pprint(e)\n",
    "    results = json.loads(results.content.decode())\n",
    "    return results['matchResults']"
   ]
  },
  {
   "cell_type": "markdown",
   "id": "18ff5e72-4fe7-4a20-9b85-64229ef609f6",
   "metadata": {},
   "source": [
    "vmMatch takes a list of dictionary with \"name\" and \"userTip\" defined in each dictionary.  List lengths in the 10-30 range probably OK, getting into hundreds may cause system errors"
   ]
  },
  {
   "cell_type": "code",
   "execution_count": 145,
   "id": "d602cdcb-c64b-4ce3-80a5-78ba08b96df0",
   "metadata": {
    "scrolled": true
   },
   "outputs": [],
   "source": [
    "for item in testlist:\n",
    "    querydict = [{\"name\":item, \"userTip\":item}]\n",
    "    #pprint.pprint(querydict)\n",
    "    queryres = runPostQuery(vmatchprodurl, querydict, headers)\n",
    "   #pprint.pprint(queryres)"
   ]
  },
  {
   "cell_type": "markdown",
   "id": "6c86c28b-0a9e-4b9e-89b1-0eeca067406b",
   "metadata": {},
   "source": [
    "This is where things can get funky.  The concept id can be used in a caDSR Concept query (/DataElement/query/Concept,  curl -X GET \"https://cadsrapi.cancer.gov/rad/NCIAPI/1.0/api/DataElement/query/Concept?conceptCode=C14201\" -H \"accept: application/json\").  The records returned from that contain a publicID that can then be used\n",
    "in a Data Element query (curl -X GET \"https://cadsrapi.cancer.gov/rad/NCIAPI/1.0/api/DataElement/5729594\" -H \"accept: application/json\")"
   ]
  },
  {
   "cell_type": "markdown",
   "id": "f7c10ec2-1428-4ab9-a75a-2115671699c9",
   "metadata": {},
   "source": [
    "So Step one will be to coleect the concept IDs"
   ]
  },
  {
   "cell_type": "code",
   "execution_count": 146,
   "id": "3cf994c6-3911-4bc4-89da-ee7243dfdf40",
   "metadata": {},
   "outputs": [],
   "source": [
    "querylist = []\n",
    "for item in testlist:\n",
    "#for item in bumlist:\n",
    "#for item in cdaSpeciesList:\n",
    "    querylist.append({\"name\":item, \"userTip\":item})\n",
    "bigres = runPostQuery(vmatchprodurl, querylist, headers)"
   ]
  },
  {
   "cell_type": "markdown",
   "id": "1238386b-f415-4242-b425-7645dc7c90d6",
   "metadata": {},
   "source": [
    "For each entry we need to look at the 'name' field to find out what query it's related to.  Though this JSON looks a little bit duplicated?"
   ]
  },
  {
   "cell_type": "code",
   "execution_count": 147,
   "id": "3393bda4-c64a-4edb-b5d5-7d1703abe89f",
   "metadata": {},
   "outputs": [],
   "source": [
    "conceptiddict = {}\n",
    "nohitlist = []\n",
    "for entry in bigres:\n",
    "    testname = entry['name']\n",
    "    if int(entry['numberOfMatches']) > 0:\n",
    "        for match in entry['matches']:\n",
    "            conceptid = match['concept']\n",
    "            #pprint.pprint(testname)\n",
    "            #pprint.pprint(conceptid)\n",
    "            #pprint.pprint(match)\n",
    "            if testname in conceptiddict:\n",
    "                temparray = conceptiddict[testname]\n",
    "                temparray.append(conceptid)\n",
    "                conceptiddict[testname] = temparray\n",
    "            else:\n",
    "                conceptiddict[testname] = [conceptid]\n",
    "    else:\n",
    "        nohitlist.append(entry['name'])\n",
    "        "
   ]
  },
  {
   "cell_type": "code",
   "execution_count": 148,
   "id": "bef03636-5d39-4e1e-92da-bb083564fcc8",
   "metadata": {},
   "outputs": [
    {
     "name": "stdout",
     "output_type": "stream",
     "text": [
      "{'canis familiaris': ['C14201'],\n",
      " 'homo sapiens; mus musculus': ['C45247',\n",
      "                                'C19862',\n",
      "                                'C192862',\n",
      "                                '10039481',\n",
      "                                '10011614',\n",
      "                                'C79665']}\n",
      "['jhu-qc']\n"
     ]
    }
   ],
   "source": [
    "#pprint.pprint(conceptiddict)\n",
    "#pprint.pprint(nohitlist)"
   ]
  },
  {
   "cell_type": "markdown",
   "id": "053a1e89-e34f-47f7-9f57-ffa3da78143b",
   "metadata": {},
   "source": [
    "For each of the concept codes, hit the Concept endpoint and see what comes back"
   ]
  },
  {
   "cell_type": "code",
   "execution_count": 149,
   "id": "3f915f42-48a4-4018-aa83-bf20ad29436f",
   "metadata": {},
   "outputs": [],
   "source": [
    "def conceptCodeQuery(conceptcode):\n",
    "    url = \"https://cadsrapi.cancer.gov/rad/NCIAPI/1.0/api/DataElement/query/Concept?conceptCode={}\".format(conceptcode)\n",
    "    headers = {\"accept\" : \"application/json\"}\n",
    "    results = requests.get(url, headers = headers)\n",
    "    results = json.loads(results.content.decode())\n",
    "    return results['DataElementQueryResults']"
   ]
  },
  {
   "cell_type": "code",
   "execution_count": 150,
   "id": "e7022c47-f69f-4dd9-8f92-458851b41a42",
   "metadata": {},
   "outputs": [],
   "source": [
    "publiciddict = {}\n",
    "for testname,list in conceptiddict.items():\n",
    "    for id in list:\n",
    "        conceptres = conceptCodeQuery(id)\n",
    "        for entry in conceptres:\n",
    "            publicid = entry['publicId']\n",
    "            if testname in publiciddict:\n",
    "                temparray = publiciddict[testname]\n",
    "                temparray.append(publicid)\n",
    "                publiciddict[testname] = temparray\n",
    "            else:\n",
    "                publiciddict[testname] = [publicid]"
   ]
  },
  {
   "cell_type": "code",
   "execution_count": 151,
   "id": "3819d28d-0355-45b3-b8fe-b7f57706d310",
   "metadata": {},
   "outputs": [
    {
     "name": "stdout",
     "output_type": "stream",
     "text": [
      "{'canis familiaris': ['2452737',\n",
      "                      '2452741',\n",
      "                      '2453180',\n",
      "                      '2453343',\n",
      "                      '2453345',\n",
      "                      '2453351',\n",
      "                      '2453403',\n",
      "                      '2453731',\n",
      "                      '2613129',\n",
      "                      '2614959',\n",
      "                      '2756032',\n",
      "                      '2827061',\n",
      "                      '3130966',\n",
      "                      '3744672',\n",
      "                      '3770708',\n",
      "                      '3770719',\n",
      "                      '4862813',\n",
      "                      '5729594',\n",
      "                      '6118266'],\n",
      " 'homo sapiens; mus musculus': ['6951303', '3014701', '12662612']}\n"
     ]
    }
   ],
   "source": [
    "#pprint.pprint(publiciddict)"
   ]
  },
  {
   "cell_type": "code",
   "execution_count": 152,
   "id": "ac7507dd-3507-4702-8ba5-e52a83ba1fff",
   "metadata": {},
   "outputs": [],
   "source": [
    "def dataElementQuery(publicid):\n",
    "    url = \"https://cadsrapi.cancer.gov/rad/NCIAPI/1.0/api/DataElement/{}\".format(publicid)\n",
    "    headers = {\"accept\" : \"application/json\"}\n",
    "    results = requests.get(url, headers = headers)\n",
    "    if results.status_code == 200:\n",
    "        results = json.loads(results.content.decode())\n",
    "    else:\n",
    "        results = None\n",
    "    return results"
   ]
  },
  {
   "cell_type": "code",
   "execution_count": 153,
   "id": "227e24c6-32e5-47ab-b45f-9349a6bcdc05",
   "metadata": {},
   "outputs": [],
   "source": [
    "tempiddict = {'canis familiaris': ['2452737','2452741']}"
   ]
  },
  {
   "cell_type": "markdown",
   "id": "cd8d74ee-d7c5-4309-bd31-c0174b0c1b49",
   "metadata": {},
   "source": [
    "Lastly, use the publicID in a CDE Query.  From this we'll want the context and preferredName to start"
   ]
  },
  {
   "cell_type": "code",
   "execution_count": 154,
   "id": "06396d4d-434d-485c-9842-7f509085fcde",
   "metadata": {},
   "outputs": [],
   "source": [
    "cdemapping = {}\n",
    "unknownids = {}\n",
    "#for key, list in tempiddict.items():\n",
    "for key, list in publiciddict.items():\n",
    "    for publicid in list:\n",
    "        cderes = dataElementQuery(publicid)\n",
    "        if cderes is not None:\n",
    "            context = cderes['DataElement']['DataElementConcept']['ConceptualDomain']['context']\n",
    "            name = cderes['DataElement']['DataElementConcept']['ConceptualDomain']['preferredName']\n",
    "            status = cderes['DataElement']['DataElementConcept']['ConceptualDomain']['workflowStatus']\n",
    "            publicid = cderes['DataElement']['DataElementConcept']['ConceptualDomain']['publicId']\n",
    "            holding = {\"publicId\":publicid, \"context\":context, \"preferredName\":name, 'workflowStatus':status}\n",
    "            if key in cdemapping:\n",
    "                temp = cdemapping[key]\n",
    "                temp.append(holding)\n",
    "                cdemapping[key] = temp\n",
    "            else:\n",
    "                cdemapping[key] = [holding]\n",
    "        else: #Store the IDs that likely generated a 500 error\n",
    "            if key in unknownids:\n",
    "                temp = unknownids[key]\n",
    "                temp.append(publicid)\n",
    "                unknownids[key] = temp\n",
    "            else:\n",
    "                unknownids[key] = [publicid]\n",
    "    "
   ]
  },
  {
   "cell_type": "code",
   "execution_count": 155,
   "id": "c5ca50ff-1c10-405e-b9a5-47372628f2bb",
   "metadata": {},
   "outputs": [
    {
     "name": "stdout",
     "output_type": "stream",
     "text": [
      "{'canis familiaris': [{'context': 'CCR',\n",
      "                       'preferredName': 'Veterinary Study',\n",
      "                       'publicId': '2452699',\n",
      "                       'workflowStatus': 'RELEASED'},\n",
      "                      {'context': 'CCR',\n",
      "                       'preferredName': 'Veterinary Study',\n",
      "                       'publicId': '2452699',\n",
      "                       'workflowStatus': 'RELEASED'},\n",
      "                      {'context': 'CCR',\n",
      "                       'preferredName': 'Veterinary Study',\n",
      "                       'publicId': '2452699',\n",
      "                       'workflowStatus': 'RELEASED'},\n",
      "                      {'context': 'CCR',\n",
      "                       'preferredName': 'Veterinary Study',\n",
      "                       'publicId': '2452699',\n",
      "                       'workflowStatus': 'RELEASED'},\n",
      "                      {'context': 'CCR',\n",
      "                       'preferredName': 'Veterinary Study',\n",
      "                       'publicId': '2452699',\n",
      "                       'workflowStatus': 'RELEASED'},\n",
      "                      {'context': 'caCORE',\n",
      "                       'preferredName': 'UML DEFAULT CD',\n",
      "                       'publicId': '2222502',\n",
      "                       'workflowStatus': 'RELEASED'},\n",
      "                      {'context': 'caCORE',\n",
      "                       'preferredName': 'UML DEFAULT CD',\n",
      "                       'publicId': '2222502',\n",
      "                       'workflowStatus': 'RELEASED'},\n",
      "                      {'context': 'CTEP',\n",
      "                       'preferredName': 'Assessment Results',\n",
      "                       'publicId': '2008556',\n",
      "                       'workflowStatus': 'RELEASED'},\n",
      "                      {'context': 'CTEP',\n",
      "                       'preferredName': 'Individuals',\n",
      "                       'publicId': '2008532',\n",
      "                       'workflowStatus': 'RELEASED'},\n",
      "                      {'context': 'CCR',\n",
      "                       'preferredName': 'Person Measure/Instrument Testing',\n",
      "                       'publicId': '2524082',\n",
      "                       'workflowStatus': 'RELEASED'},\n",
      "                      {'context': 'CCR',\n",
      "                       'preferredName': 'Person Measure/Instrument Testing',\n",
      "                       'publicId': '2524082',\n",
      "                       'workflowStatus': 'RELEASED'},\n",
      "                      {'context': 'CTEP',\n",
      "                       'preferredName': 'Individuals',\n",
      "                       'publicId': '2008532',\n",
      "                       'workflowStatus': 'RELEASED'},\n",
      "                      {'context': 'CTEP',\n",
      "                       'preferredName': 'Specimen Characteristics',\n",
      "                       'publicId': '2008547',\n",
      "                       'workflowStatus': 'RELEASED'}],\n",
      " 'homo sapiens; mus musculus': [{'context': 'CTEP',\n",
      "                                 'preferredName': 'Data Source',\n",
      "                                 'publicId': '2008576',\n",
      "                                 'workflowStatus': 'RELEASED'},\n",
      "                                {'context': 'SPOREs',\n",
      "                                 'preferredName': 'Behavior',\n",
      "                                 'publicId': '2008566',\n",
      "                                 'workflowStatus': 'RELEASED'},\n",
      "                                {'context': 'CTEP',\n",
      "                                 'preferredName': 'Assessments',\n",
      "                                 'publicId': '2008551',\n",
      "                                 'workflowStatus': 'RELEASED'}]}\n"
     ]
    }
   ],
   "source": [
    "#pprint.pprint(cdemapping)"
   ]
  },
  {
   "cell_type": "code",
   "execution_count": 156,
   "id": "3354f057-43bc-491e-8c49-527fdcb52b2a",
   "metadata": {},
   "outputs": [
    {
     "name": "stdout",
     "output_type": "stream",
     "text": [
      "{'canis familiaris': ['2452737',\n",
      "                      '2452741',\n",
      "                      '2453731',\n",
      "                      '2614959',\n",
      "                      '3130966',\n",
      "                      '3770708']}\n"
     ]
    }
   ],
   "source": [
    "#pprint.pprint(unknownids)"
   ]
  },
  {
   "cell_type": "code",
   "execution_count": 157,
   "id": "fa72855a-fe69-441d-8836-badc3894da6f",
   "metadata": {},
   "outputs": [],
   "source": [
    "columns = ['OriginalSearchTerm', 'Context', 'PreferredName', 'PublicID','Status']\n",
    "cdedf = pd.DataFrame(columns = columns)\n",
    "for key, list in cdemapping.items():\n",
    "    for entry in list:\n",
    "        #cdedf = cdedf.append({'OriginalSearchTerm':key, 'Context':entry['context'], 'PreferredName': entry['preferredName'], 'PublicID':entry['publicId'], 'Status':entry['workflowStatus']}, ignore_index=True)\n",
    "        tempdf = pd.DataFrame({'OriginalSearchTerm':key, 'Context':entry['context'], 'PreferredName': entry['preferredName'], 'PublicID':entry['publicId'], 'Status':entry['workflowStatus']}, index=[0,1,2,3,4])\n",
    "        cdedf = pd.concat([cdedf, tempdf], ignore_index=True)"
   ]
  },
  {
   "cell_type": "code",
   "execution_count": 158,
   "id": "b0835b2a-45c6-4aa2-9d68-573a4bb93ca4",
   "metadata": {},
   "outputs": [
    {
     "data": {
      "text/html": [
       "<div>\n",
       "<style scoped>\n",
       "    .dataframe tbody tr th:only-of-type {\n",
       "        vertical-align: middle;\n",
       "    }\n",
       "\n",
       "    .dataframe tbody tr th {\n",
       "        vertical-align: top;\n",
       "    }\n",
       "\n",
       "    .dataframe thead th {\n",
       "        text-align: right;\n",
       "    }\n",
       "</style>\n",
       "<table border=\"1\" class=\"dataframe\">\n",
       "  <thead>\n",
       "    <tr style=\"text-align: right;\">\n",
       "      <th></th>\n",
       "      <th>OriginalSearchTerm</th>\n",
       "      <th>Context</th>\n",
       "      <th>PreferredName</th>\n",
       "      <th>PublicID</th>\n",
       "      <th>Status</th>\n",
       "    </tr>\n",
       "  </thead>\n",
       "  <tbody>\n",
       "    <tr>\n",
       "      <th>0</th>\n",
       "      <td>canis familiaris</td>\n",
       "      <td>CCR</td>\n",
       "      <td>Veterinary Study</td>\n",
       "      <td>2452699</td>\n",
       "      <td>RELEASED</td>\n",
       "    </tr>\n",
       "    <tr>\n",
       "      <th>1</th>\n",
       "      <td>canis familiaris</td>\n",
       "      <td>CCR</td>\n",
       "      <td>Veterinary Study</td>\n",
       "      <td>2452699</td>\n",
       "      <td>RELEASED</td>\n",
       "    </tr>\n",
       "    <tr>\n",
       "      <th>2</th>\n",
       "      <td>canis familiaris</td>\n",
       "      <td>CCR</td>\n",
       "      <td>Veterinary Study</td>\n",
       "      <td>2452699</td>\n",
       "      <td>RELEASED</td>\n",
       "    </tr>\n",
       "    <tr>\n",
       "      <th>3</th>\n",
       "      <td>canis familiaris</td>\n",
       "      <td>CCR</td>\n",
       "      <td>Veterinary Study</td>\n",
       "      <td>2452699</td>\n",
       "      <td>RELEASED</td>\n",
       "    </tr>\n",
       "    <tr>\n",
       "      <th>4</th>\n",
       "      <td>canis familiaris</td>\n",
       "      <td>CCR</td>\n",
       "      <td>Veterinary Study</td>\n",
       "      <td>2452699</td>\n",
       "      <td>RELEASED</td>\n",
       "    </tr>\n",
       "  </tbody>\n",
       "</table>\n",
       "</div>"
      ],
      "text/plain": [
       "  OriginalSearchTerm Context     PreferredName PublicID    Status\n",
       "0   canis familiaris     CCR  Veterinary Study  2452699  RELEASED\n",
       "1   canis familiaris     CCR  Veterinary Study  2452699  RELEASED\n",
       "2   canis familiaris     CCR  Veterinary Study  2452699  RELEASED\n",
       "3   canis familiaris     CCR  Veterinary Study  2452699  RELEASED\n",
       "4   canis familiaris     CCR  Veterinary Study  2452699  RELEASED"
      ]
     },
     "execution_count": 158,
     "metadata": {},
     "output_type": "execute_result"
    }
   ],
   "source": [
    "cdedf.head()"
   ]
  },
  {
   "cell_type": "code",
   "execution_count": 160,
   "id": "db449087-418f-4df3-9747-3436dd1f0954",
   "metadata": {},
   "outputs": [
    {
     "data": {
      "text/html": [
       "<div>\n",
       "<style scoped>\n",
       "    .dataframe tbody tr th:only-of-type {\n",
       "        vertical-align: middle;\n",
       "    }\n",
       "\n",
       "    .dataframe tbody tr th {\n",
       "        vertical-align: top;\n",
       "    }\n",
       "\n",
       "    .dataframe thead th {\n",
       "        text-align: right;\n",
       "    }\n",
       "</style>\n",
       "<table border=\"1\" class=\"dataframe\">\n",
       "  <thead>\n",
       "    <tr style=\"text-align: right;\">\n",
       "      <th></th>\n",
       "      <th>OriginalSearchTerm</th>\n",
       "      <th>Context</th>\n",
       "      <th>PreferredName</th>\n",
       "      <th>PublicID</th>\n",
       "      <th>Status</th>\n",
       "      <th>size</th>\n",
       "    </tr>\n",
       "  </thead>\n",
       "  <tbody>\n",
       "    <tr>\n",
       "      <th>0</th>\n",
       "      <td>canis familiaris</td>\n",
       "      <td>CCR</td>\n",
       "      <td>Person Measure/Instrument Testing</td>\n",
       "      <td>2524082</td>\n",
       "      <td>RELEASED</td>\n",
       "      <td>10</td>\n",
       "    </tr>\n",
       "    <tr>\n",
       "      <th>1</th>\n",
       "      <td>canis familiaris</td>\n",
       "      <td>CCR</td>\n",
       "      <td>Veterinary Study</td>\n",
       "      <td>2452699</td>\n",
       "      <td>RELEASED</td>\n",
       "      <td>25</td>\n",
       "    </tr>\n",
       "    <tr>\n",
       "      <th>2</th>\n",
       "      <td>canis familiaris</td>\n",
       "      <td>CTEP</td>\n",
       "      <td>Assessment Results</td>\n",
       "      <td>2008556</td>\n",
       "      <td>RELEASED</td>\n",
       "      <td>5</td>\n",
       "    </tr>\n",
       "    <tr>\n",
       "      <th>3</th>\n",
       "      <td>canis familiaris</td>\n",
       "      <td>CTEP</td>\n",
       "      <td>Individuals</td>\n",
       "      <td>2008532</td>\n",
       "      <td>RELEASED</td>\n",
       "      <td>10</td>\n",
       "    </tr>\n",
       "    <tr>\n",
       "      <th>4</th>\n",
       "      <td>canis familiaris</td>\n",
       "      <td>CTEP</td>\n",
       "      <td>Specimen Characteristics</td>\n",
       "      <td>2008547</td>\n",
       "      <td>RELEASED</td>\n",
       "      <td>5</td>\n",
       "    </tr>\n",
       "    <tr>\n",
       "      <th>5</th>\n",
       "      <td>canis familiaris</td>\n",
       "      <td>caCORE</td>\n",
       "      <td>UML DEFAULT CD</td>\n",
       "      <td>2222502</td>\n",
       "      <td>RELEASED</td>\n",
       "      <td>10</td>\n",
       "    </tr>\n",
       "    <tr>\n",
       "      <th>6</th>\n",
       "      <td>homo sapiens; mus musculus</td>\n",
       "      <td>CTEP</td>\n",
       "      <td>Assessments</td>\n",
       "      <td>2008551</td>\n",
       "      <td>RELEASED</td>\n",
       "      <td>5</td>\n",
       "    </tr>\n",
       "    <tr>\n",
       "      <th>7</th>\n",
       "      <td>homo sapiens; mus musculus</td>\n",
       "      <td>CTEP</td>\n",
       "      <td>Data Source</td>\n",
       "      <td>2008576</td>\n",
       "      <td>RELEASED</td>\n",
       "      <td>5</td>\n",
       "    </tr>\n",
       "    <tr>\n",
       "      <th>8</th>\n",
       "      <td>homo sapiens; mus musculus</td>\n",
       "      <td>SPOREs</td>\n",
       "      <td>Behavior</td>\n",
       "      <td>2008566</td>\n",
       "      <td>RELEASED</td>\n",
       "      <td>5</td>\n",
       "    </tr>\n",
       "  </tbody>\n",
       "</table>\n",
       "</div>"
      ],
      "text/plain": [
       "           OriginalSearchTerm Context                      PreferredName  \\\n",
       "0            canis familiaris     CCR  Person Measure/Instrument Testing   \n",
       "1            canis familiaris     CCR                   Veterinary Study   \n",
       "2            canis familiaris    CTEP                 Assessment Results   \n",
       "3            canis familiaris    CTEP                        Individuals   \n",
       "4            canis familiaris    CTEP           Specimen Characteristics   \n",
       "5            canis familiaris  caCORE                     UML DEFAULT CD   \n",
       "6  homo sapiens; mus musculus    CTEP                        Assessments   \n",
       "7  homo sapiens; mus musculus    CTEP                        Data Source   \n",
       "8  homo sapiens; mus musculus  SPOREs                           Behavior   \n",
       "\n",
       "  PublicID    Status  size  \n",
       "0  2524082  RELEASED    10  \n",
       "1  2452699  RELEASED    25  \n",
       "2  2008556  RELEASED     5  \n",
       "3  2008532  RELEASED    10  \n",
       "4  2008547  RELEASED     5  \n",
       "5  2222502  RELEASED    10  \n",
       "6  2008551  RELEASED     5  \n",
       "7  2008576  RELEASED     5  \n",
       "8  2008566  RELEASED     5  "
      ]
     },
     "execution_count": 160,
     "metadata": {},
     "output_type": "execute_result"
    }
   ],
   "source": [
    "cdedf.groupby(cdedf.columns.tolist(), as_index=False).size()"
   ]
  },
  {
   "cell_type": "code",
   "execution_count": null,
   "id": "23893a96-d0cb-44e2-ade4-be53107f8d3f",
   "metadata": {},
   "outputs": [],
   "source": []
  }
 ],
 "metadata": {
  "kernelspec": {
   "display_name": "Python 3 (ipykernel)",
   "language": "python",
   "name": "python3"
  },
  "language_info": {
   "codemirror_mode": {
    "name": "ipython",
    "version": 3
   },
   "file_extension": ".py",
   "mimetype": "text/x-python",
   "name": "python",
   "nbconvert_exporter": "python",
   "pygments_lexer": "ipython3",
   "version": "3.10.12"
  }
 },
 "nbformat": 4,
 "nbformat_minor": 5
}

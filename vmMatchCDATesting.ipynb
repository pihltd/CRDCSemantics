{
 "cells": [
  {
   "cell_type": "markdown",
   "id": "a18d1cdb-a179-40e8-905f-073b7d9797c1",
   "metadata": {},
   "source": [
    "The purpose of this notebook is to try out vmMatch with CDA examples and see where it leades"
   ]
  },
  {
   "cell_type": "code",
   "execution_count": 51,
   "id": "a6cf6a44-89ce-4a40-8f26-d5518f53a212",
   "metadata": {},
   "outputs": [],
   "source": [
    "import pandas as pd\n",
    "import requests\n",
    "import pprint\n",
    "import json"
   ]
  },
  {
   "cell_type": "code",
   "execution_count": 52,
   "id": "cdc6355f-759f-43d9-a82b-9035fc315c55",
   "metadata": {},
   "outputs": [],
   "source": [
    "vmatchprodurl = \"https://cadsrapi.cancer.gov/rad/vmMatch/v1/vmMatch\""
   ]
  },
  {
   "cell_type": "code",
   "execution_count": 53,
   "id": "ba88b4db-9567-419b-8f2c-08c613a7fe7b",
   "metadata": {},
   "outputs": [],
   "source": [
    "cdaSpeciesList = [\"canis familiaris\", \"home sapeins\", \"homo sapiens; mus musculus\", \"internal reference-pooled sample\", \"jhu-qc\", \"mus musculus\", \"normal only ir\", \"not reported\", \"pnnl-jhu ref\", \"ref\", \"taiwanese ir\", \"tumor only ir\"]\n",
    "testlist = [\"canis familiaris\",\"jhu-qc\"]\n",
    "bumlist = [\"jhu-qc\"]"
   ]
  },
  {
   "cell_type": "code",
   "execution_count": 54,
   "id": "79da4bd0-80e7-4271-aec3-3095443d8b74",
   "metadata": {},
   "outputs": [],
   "source": [
    "headers = { 'Content-Type': 'application/json',\n",
    "            'matchType': 'Restricted',\n",
    "            'function': 'Concepts Only'}"
   ]
  },
  {
   "cell_type": "code",
   "execution_count": 55,
   "id": "9f08297b-c24c-4ba9-a404-7fd7291e9e43",
   "metadata": {},
   "outputs": [],
   "source": [
    "def runPostQuery(url, query, headers):\n",
    "    try:\n",
    "        results = requests.post(url, data=json.dumps(query), headers=headers)\n",
    "    except requests.exceptions.HTTPError as e:\n",
    "        pprint.pprint(e)\n",
    "    results = json.loads(results.content.decode())\n",
    "    pprint.pprint(results)\n",
    "    return results['matchResults']"
   ]
  },
  {
   "cell_type": "code",
   "execution_count": 21,
   "id": "d602cdcb-c64b-4ce3-80a5-78ba08b96df0",
   "metadata": {},
   "outputs": [
    {
     "name": "stdout",
     "output_type": "stream",
     "text": [
      "[{'name': 'canis familiaris', 'userTip': 'canis familiaris'}]\n",
      "[{'matches': [{'concept': 'C14201',\n",
      "               'context': 'NCIP',\n",
      "               'createdBy': 'ONEDATA_WA',\n",
      "               'dateCreated': '2023-11-22T14:10:50Z',\n",
      "               'dateLastModified': '2023-11-22T14:10:50Z',\n",
      "               'evsSource': 'NCI_CONCEPT_CODE',\n",
      "               'importedVMName': 'canis familiaris',\n",
      "               'itemId': '2452720',\n",
      "               'itemType': 'Concept',\n",
      "               'lastModifiedBy': 'ONEDATA_WA',\n",
      "               'matchedDefinition': 'The domestic dog, Canis familiaris.',\n",
      "               'matchedName': 'Dog',\n",
      "               'registrationStatus': 'Application',\n",
      "               'ruleDescription': '3. Synonym Exact Match',\n",
      "               'userComment': None,\n",
      "               'userTip': 'canis familiaris',\n",
      "               'version': '1',\n",
      "               'workflowStatus': 'RELEASED'}],\n",
      "  'name': 'canis familiaris',\n",
      "  'numberOfMatches': '1',\n",
      "  'userTip': 'canis familiaris'}]\n"
     ]
    }
   ],
   "source": [
    "for item in testlist:\n",
    "    #querystring = \"'name' : {}, 'userTip': {}\".format(item, item)\n",
    "    querydict = [{\"name\":item, \"userTip\":item}]\n",
    "    #pprint.pprint(querydict)\n",
    "    queryres = runPostQuery(vmatchprodurl, querydict, headers)\n",
    "    pprint.pprint(queryres)"
   ]
  },
  {
   "cell_type": "code",
   "execution_count": 56,
   "id": "f892eb55-35d9-4bc0-a4c7-7a7d7ea4ace8",
   "metadata": {},
   "outputs": [],
   "source": [
    "summarydict = {}\n"
   ]
  },
  {
   "cell_type": "code",
   "execution_count": 59,
   "id": "3cf994c6-3911-4bc4-89da-ee7243dfdf40",
   "metadata": {},
   "outputs": [
    {
     "name": "stdout",
     "output_type": "stream",
     "text": [
      "[{'name': 'canis familiaris', 'userTip': 'canis familiaris'},\n",
      " {'name': 'jhu-qc', 'userTip': 'jhu-qc'}]\n",
      "{'matchResults': [{'matches': [{'concept': 'C14201',\n",
      "                                'context': 'NCIP',\n",
      "                                'createdBy': 'ONEDATA_WA',\n",
      "                                'dateCreated': '2023-11-22T18:07:27Z',\n",
      "                                'dateLastModified': '2023-11-22T18:07:27Z',\n",
      "                                'evsSource': 'NCI_CONCEPT_CODE',\n",
      "                                'importedVMName': 'canis familiaris',\n",
      "                                'itemId': '2452720',\n",
      "                                'itemType': 'Concept',\n",
      "                                'lastModifiedBy': 'ONEDATA_WA',\n",
      "                                'matchedDefinition': 'The domestic dog, Canis '\n",
      "                                                     'familiaris.',\n",
      "                                'matchedName': 'Dog',\n",
      "                                'registrationStatus': 'Application',\n",
      "                                'ruleDescription': '3. Synonym Exact Match',\n",
      "                                'userComment': None,\n",
      "                                'userTip': 'canis familiaris',\n",
      "                                'version': '1',\n",
      "                                'workflowStatus': 'RELEASED'}],\n",
      "                   'name': 'canis familiaris',\n",
      "                   'numberOfMatches': '1',\n",
      "                   'userTip': 'canis familiaris'},\n",
      "                  {'name': 'jhu-qc',\n",
      "                   'numberOfMatches': '0',\n",
      "                   'userTip': 'jhu-qc'}]}\n",
      "[{'matches': [{'concept': 'C14201',\n",
      "               'context': 'NCIP',\n",
      "               'createdBy': 'ONEDATA_WA',\n",
      "               'dateCreated': '2023-11-22T18:07:27Z',\n",
      "               'dateLastModified': '2023-11-22T18:07:27Z',\n",
      "               'evsSource': 'NCI_CONCEPT_CODE',\n",
      "               'importedVMName': 'canis familiaris',\n",
      "               'itemId': '2452720',\n",
      "               'itemType': 'Concept',\n",
      "               'lastModifiedBy': 'ONEDATA_WA',\n",
      "               'matchedDefinition': 'The domestic dog, Canis familiaris.',\n",
      "               'matchedName': 'Dog',\n",
      "               'registrationStatus': 'Application',\n",
      "               'ruleDescription': '3. Synonym Exact Match',\n",
      "               'userComment': None,\n",
      "               'userTip': 'canis familiaris',\n",
      "               'version': '1',\n",
      "               'workflowStatus': 'RELEASED'}],\n",
      "  'name': 'canis familiaris',\n",
      "  'numberOfMatches': '1',\n",
      "  'userTip': 'canis familiaris'},\n",
      " {'name': 'jhu-qc', 'numberOfMatches': '0', 'userTip': 'jhu-qc'}]\n"
     ]
    }
   ],
   "source": [
    "querylist = []\n",
    "for item in testlist:\n",
    "#for item in bumlist:\n",
    "#for item in cdaSpeciesList:\n",
    "    querylist.append({\"name\":item, \"userTip\":item})\n",
    "pprint.pprint(querylist)\n",
    "    #querydict = [{\"name\":item, \"userTip\":item}]\n",
    "bigres = runPostQuery(vmatchprodurl, querylist, headers)\n",
    "pprint.pprint(bigres)\n",
    "    #for match in bigres:\n",
    "    #    summarydict['inputname'] = item\n",
    "    #    summarydict['matches'] = match['numberOfMatches']\n",
    "    #    pprint.pprint(type(match['numberOfMatches']))\n",
    "    #    if match['numberOfMatches'] != '0':\n",
    "    #        pprint.pprint(match['numberOfMatches'])\n",
    "    #        for entry in match['matches']:\n",
    "    #            summarydict['concept'] = entry['concept']\n",
    "    #            summarydict['context'] = entry['context']\n",
    "    #            summarydict['status'] = entry['workflowStatus']"
   ]
  },
  {
   "cell_type": "markdown",
   "id": "1238386b-f415-4242-b425-7645dc7c90d6",
   "metadata": {},
   "source": [
    "For each entry we need to look at the 'name' field to find out what query it's related to.  Though this JSON looks a little bit duplicated?"
   ]
  },
  {
   "cell_type": "code",
   "execution_count": null,
   "id": "3393bda4-c64a-4edb-b5d5-7d1703abe89f",
   "metadata": {},
   "outputs": [],
   "source": []
  }
 ],
 "metadata": {
  "kernelspec": {
   "display_name": "Python 3 (ipykernel)",
   "language": "python",
   "name": "python3"
  },
  "language_info": {
   "codemirror_mode": {
    "name": "ipython",
    "version": 3
   },
   "file_extension": ".py",
   "mimetype": "text/x-python",
   "name": "python",
   "nbconvert_exporter": "python",
   "pygments_lexer": "ipython3",
   "version": "3.10.12"
  }
 },
 "nbformat": 4,
 "nbformat_minor": 5
}

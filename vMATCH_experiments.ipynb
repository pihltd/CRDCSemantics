{
 "cells": [
  {
   "cell_type": "code",
   "execution_count": 18,
   "id": "ab4696b9-de88-47eb-8bc4-714fbe7e7bea",
   "metadata": {},
   "outputs": [],
   "source": [
    "import pandas as pd\n",
    "import requests\n",
    "import pprint\n",
    "import json"
   ]
  },
  {
   "cell_type": "code",
   "execution_count": 19,
   "id": "dd7d3a02-ed4a-4f6a-860c-039744c65fe4",
   "metadata": {},
   "outputs": [],
   "source": [
    "vmatchprodurl = \"https://cadsrapi.cancer.gov/rad/vmMatch/v1/vmMatch\""
   ]
  },
  {
   "cell_type": "code",
   "execution_count": 28,
   "id": "b33fbaa1-0e0a-4664-beb0-2cd9205529a2",
   "metadata": {},
   "outputs": [],
   "source": [
    "namestring = [{'name' : 'Homo sapiens', 'userTip' : 'Homo sapiens' }]"
   ]
  },
  {
   "cell_type": "code",
   "execution_count": 29,
   "id": "b231a000-b8f2-441d-9cf8-a924f3a43fc0",
   "metadata": {},
   "outputs": [],
   "source": [
    "headers = { 'Content-Type': 'application/json',\n",
    "            'matchType': 'Restricted',\n",
    "            'function': 'Concepts Only'}"
   ]
  },
  {
   "cell_type": "code",
   "execution_count": 30,
   "id": "c72d9e91-5c19-4c9e-bf17-35f3aff54180",
   "metadata": {},
   "outputs": [],
   "source": [
    "try:\n",
    "    matchres = requests.post(vmatchprodurl, data=json.dumps(namestring), headers=headers)\n",
    "except requests.exceptions.HTTPError as e:\n",
    "    pprint.pprint(e)"
   ]
  },
  {
   "cell_type": "code",
   "execution_count": 37,
   "id": "2a86534a-7834-458b-934f-f648cfaf5303",
   "metadata": {},
   "outputs": [
    {
     "name": "stdout",
     "output_type": "stream",
     "text": [
      "<Response [200]>\n"
     ]
    }
   ],
   "source": [
    "pprint.pprint(matchres)"
   ]
  },
  {
   "cell_type": "code",
   "execution_count": 46,
   "id": "69dc6079-9834-4777-bc4a-69f515123233",
   "metadata": {},
   "outputs": [],
   "source": [
    "response = json.loads(matchres.content.decode())"
   ]
  },
  {
   "cell_type": "code",
   "execution_count": 47,
   "id": "d5cbb957-b079-4aa7-ac1d-edc8d550cce9",
   "metadata": {},
   "outputs": [
    {
     "name": "stdout",
     "output_type": "stream",
     "text": [
      "{'matchResults': [{'matches': [{'concept': 'C14225',\n",
      "                                'context': 'NCIP',\n",
      "                                'createdBy': 'ONEDATA_WA',\n",
      "                                'dateCreated': '2023-11-21T17:41:17Z',\n",
      "                                'dateLastModified': '2023-11-21T17:41:17Z',\n",
      "                                'evsSource': 'NCI_CONCEPT_CODE',\n",
      "                                'importedVMName': 'Homo sapiens',\n",
      "                                'itemId': '2211228',\n",
      "                                'itemType': 'Concept',\n",
      "                                'lastModifiedBy': 'ONEDATA_WA',\n",
      "                                'matchedDefinition': 'The bipedal primate '\n",
      "                                                     'mammal, Homo sapiens; '\n",
      "                                                     'belonging to man or '\n",
      "                                                     'mankind; pertaining to '\n",
      "                                                     'man or to the race of '\n",
      "                                                     'man; use of man as '\n",
      "                                                     'experimental subject or '\n",
      "                                                     'unit of analysis in '\n",
      "                                                     'research.',\n",
      "                                'matchedName': 'Human',\n",
      "                                'registrationStatus': 'Application',\n",
      "                                'ruleDescription': '3. Synonym Exact Match',\n",
      "                                'userComment': None,\n",
      "                                'userTip': 'Homo sapiens',\n",
      "                                'version': '1',\n",
      "                                'workflowStatus': 'RELEASED'}],\n",
      "                   'name': 'Homo sapiens',\n",
      "                   'numberOfMatches': '1',\n",
      "                   'userTip': 'Homo sapiens'}]}\n"
     ]
    }
   ],
   "source": [
    "pprint.pprint(response)"
   ]
  },
  {
   "cell_type": "markdown",
   "id": "1e750fe7-a178-4352-acb2-415796948e86",
   "metadata": {},
   "source": [
    "with open(\"vmmatcherror.html\", \"w\") as f:\n",
    "    #htmlcontent = matchres.content.decode()\n",
    "    f.write(matchres.content.decode())\n",
    "    f.close()"
   ]
  },
  {
   "cell_type": "code",
   "execution_count": 49,
   "id": "def81b7a-60c4-437c-9f35-0f212756e9e7",
   "metadata": {},
   "outputs": [],
   "source": [
    "response = response['matchResults']"
   ]
  },
  {
   "cell_type": "code",
   "execution_count": 55,
   "id": "13022266-47b8-4ba7-ae2b-2f5e1be1a061",
   "metadata": {},
   "outputs": [],
   "source": [
    "conceptcodes = []\n",
    "for matches in response:\n",
    "    for match in matches['matches']:\n",
    "        conceptcodes.append(match['concept'])"
   ]
  },
  {
   "cell_type": "code",
   "execution_count": 56,
   "id": "a78125f0-488c-4cd0-a23d-176250d46b65",
   "metadata": {},
   "outputs": [
    {
     "name": "stdout",
     "output_type": "stream",
     "text": [
      "['C14225']\n"
     ]
    }
   ],
   "source": [
    "pprint.pprint(conceptcodes)"
   ]
  },
  {
   "cell_type": "code",
   "execution_count": 58,
   "id": "c0c5345f-6323-4245-a2b2-b7a97307f24f",
   "metadata": {},
   "outputs": [],
   "source": [
    "nciturl = 'https://api-evsrest.nci.nih.gov/api/v1/concept/{}/{}'"
   ]
  },
  {
   "cell_type": "code",
   "execution_count": 61,
   "id": "df51e8dc-fb6e-4142-8f3b-d075651b3bfc",
   "metadata": {},
   "outputs": [
    {
     "name": "stdout",
     "output_type": "stream",
     "text": [
      "'https://api-evsrest.nci.nih.gov/api/v1/concept/ncit/C14225'\n"
     ]
    }
   ],
   "source": [
    "term = 'ncit'\n",
    "for conceptcode in conceptcodes:\n",
    "    nciturl = \"https://api-evsrest.nci.nih.gov/api/v1/concept/{}/{}\".format(term,conceptcode)\n",
    "    pprint.pprint(nciturl)\n",
    "    #params = {'terminology':'ncit', 'code':conceptcode}\n",
    "    ncit = requests.get(nciturl)"
   ]
  },
  {
   "cell_type": "code",
   "execution_count": 64,
   "id": "4b8dd65f-fb81-4879-999a-e0c55a6b760f",
   "metadata": {},
   "outputs": [
    {
     "name": "stdout",
     "output_type": "stream",
     "text": [
      "{'code': 'C14225',\n",
      " 'definitions': [{'definition': 'The bipedal primate mammal, Homo sapiens; '\n",
      "                                'belonging to man or mankind; pertaining to '\n",
      "                                'man or to the race of man; use of man as '\n",
      "                                'experimental subject or unit of analysis in '\n",
      "                                'research.',\n",
      "                  'source': 'NCI',\n",
      "                  'type': 'DEFINITION'},\n",
      "                 {'definition': 'The bipedal primate mammal, Homo sapiens; '\n",
      "                                'belonging to man or mankind; pertaining to '\n",
      "                                'man or to the race of man; use of man as '\n",
      "                                'experimental subject or unit of analysis in '\n",
      "                                'research.',\n",
      "                  'source': 'PQCMC',\n",
      "                  'type': 'ALT_DEFINITION'}],\n",
      " 'leaf': False,\n",
      " 'name': 'Human',\n",
      " 'properties': [{'type': 'Contributing_Source', 'value': 'FDA'},\n",
      "                {'type': 'Legacy Concept Name', 'value': 'Human'},\n",
      "                {'type': 'NCBI_Taxon_ID', 'value': '9606'},\n",
      "                {'type': 'Semantic_Type', 'value': 'Human'},\n",
      "                {'type': 'UMLS_CUI', 'value': 'C0086418'}],\n",
      " 'synonyms': [{'name': 'Human',\n",
      "               'source': 'FDA',\n",
      "               'subSource': 'PQCMC',\n",
      "               'termType': 'PT',\n",
      "               'type': 'FULL_SYN'},\n",
      "              {'name': 'Homo sapiens',\n",
      "               'source': 'NCI',\n",
      "               'termType': 'SY',\n",
      "               'type': 'FULL_SYN'},\n",
      "              {'name': 'Human',\n",
      "               'source': 'NCI',\n",
      "               'termType': 'PT',\n",
      "               'type': 'FULL_SYN'},\n",
      "              {'name': 'Human',\n",
      "               'source': 'NCI',\n",
      "               'termType': 'AD',\n",
      "               'type': 'FULL_SYN'},\n",
      "              {'name': 'Human, General',\n",
      "               'source': 'NCI',\n",
      "               'termType': 'SY',\n",
      "               'type': 'FULL_SYN'},\n",
      "              {'name': 'Human', 'type': 'Preferred_Name'}],\n",
      " 'terminology': 'ncit',\n",
      " 'version': '23.10e'}\n"
     ]
    }
   ],
   "source": [
    "pprint.pprint(json.loads(ncit.content.decode()))"
   ]
  },
  {
   "cell_type": "code",
   "execution_count": null,
   "id": "2e405c60-2189-4b9d-a3a2-111abf84f20d",
   "metadata": {},
   "outputs": [],
   "source": []
  }
 ],
 "metadata": {
  "kernelspec": {
   "display_name": "Python 3 (ipykernel)",
   "language": "python",
   "name": "python3"
  },
  "language_info": {
   "codemirror_mode": {
    "name": "ipython",
    "version": 3
   },
   "file_extension": ".py",
   "mimetype": "text/x-python",
   "name": "python",
   "nbconvert_exporter": "python",
   "pygments_lexer": "ipython3",
   "version": "3.10.12"
  }
 },
 "nbformat": 4,
 "nbformat_minor": 5
}
